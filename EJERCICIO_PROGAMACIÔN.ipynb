{
  "nbformat": 4,
  "nbformat_minor": 0,
  "metadata": {
    "colab": {
      "provenance": []
    },
    "kernelspec": {
      "name": "python3",
      "display_name": "Python 3"
    },
    "language_info": {
      "name": "python"
    }
  },
  "cells": [
    {
      "cell_type": "markdown",
      "source": [
        "\n",
        "# Ejercicio de programación\n",
        "\n",
        "Realice un programa que resuelva los siguientes ejercicios usando los metodos de Newton, bisección y secante.\n",
        "\n",
        "\n",
        "1.   $x^3-2x^2 -5$ con $x \\in [1,4]$\n",
        "2.   $x^3 +3x^2-1$ con $x \\in [-3,2]$\n",
        "3.   $x-cos(x)$ con $x \\in [0,\\frac{\\pi}{4}]$\n",
        "4.   $x-0.8-0.2sin(x)$ con $x \\in [0,\\frac{\\pi}{4}]$\n",
        "\n",
        "Además, en el programa debe preguantar que metodo se desea usar y que ejercicio se desea resolver.\n"
      ],
      "metadata": {
        "id": "YZN1d9nD-VvT"
      }
    },
    {
      "cell_type": "code",
      "source": [
        "#Metodo de la bisección.\n",
        "import numpy as np\n",
        "def bisec(a,b,tol): \n",
        "  iter = 0\n",
        "  p = ( a + b )/ 2\n",
        "  if (np.abs(f(a))<=tol):\n",
        "     return a,iter,0\n",
        "  elif (np.abs(f(b))<=tol):\n",
        "    return b,iter,0\n",
        "  elif (f(a)*f(b)>0.):\n",
        "    return print('intervalo no valido')\n",
        "  else: \n",
        "    max_iter = 1000\n",
        "    while (tol<np.abs(f(p)) and iter <= max_iter):\n",
        "      if f(p)*f(b)<0:\n",
        "        a=p\n",
        "      elif f(p)*f(a)<0:\n",
        "        b=p\n",
        "      iter+=1\n",
        "      p=(a+b)/2\n",
        "    R_error = np.abs(a-b)\n",
        "    return iter,R_error,p"
      ],
      "metadata": {
        "id": "3fp0xH1p-MsC"
      },
      "execution_count": null,
      "outputs": []
    },
    {
      "cell_type": "code",
      "source": [
        "#Metodo de Newton.\n",
        "def Newton(x,tol): \n",
        "  iter = 0\n",
        "  max_iter = 100\n",
        "  while (tol < np.abs(f(x)) and iter<=max_iter):\n",
        "    x1 = x - f(x) / Df(x)\n",
        "    x=x1\n",
        "    iter+=1\n",
        "  R_error = np.abs(f(x))\n",
        "  return iter,R_error,x"
      ],
      "metadata": {
        "id": "1i6pM5KW-avm"
      },
      "execution_count": null,
      "outputs": []
    },
    {
      "cell_type": "code",
      "source": [
        "#Metodo de las secantes.\n",
        "def secantes(x1,x0,tol):\n",
        "  iter = 0\n",
        "  max_iter = 100\n",
        "  x = (x1+x0)/2\n",
        "  while (tol<=np.abs(f(x)) and iter <= max_iter):\n",
        "    x  = x1-((x1-x0)/(f(x1)-f(x0)))*f(x1)\n",
        "    x0 = x1\n",
        "    x1 = x\n",
        "    iter+=1\n",
        "  R_error = np.abs(x1-x0)\n",
        "  return iter,R_error,x"
      ],
      "metadata": {
        "id": "uCWHRAgy-niN"
      },
      "execution_count": null,
      "outputs": []
    },
    {
      "cell_type": "code",
      "execution_count": null,
      "metadata": {
        "colab": {
          "base_uri": "https://localhost:8080/"
        },
        "id": "oOjRkJMP8eYW",
        "outputId": "0a97756c-e1f6-4701-ab2d-3cc9ff3396b9"
      },
      "outputs": [
        {
          "output_type": "stream",
          "name": "stdout",
          "text": [
            "Numero del ejercicio: 1\n",
            "Elija metodo a usar: \n",
            "1) Metodo de la bisección \n",
            "2) Metodo de Newton.\n",
            "3) Metodo de secantes.\n",
            "2\n",
            "El error es:  1.7763568394002505e-14\n",
            "Numero de iteraciones: 4\n",
            "Raiz: 2.6906474480286153\n"
          ]
        }
      ],
      "source": [
        "#Ejercicio.\n",
        "def f(x): #Funciones del ejercicio.\n",
        "  if ejercicio == 1:\n",
        "    return x**3 - 2*(x**2) - 5\n",
        "  elif ejercicio == 2:\n",
        "    return  x**3 + 3*(x**2) - 1\n",
        "  elif ejercicio == 3:\n",
        "    return  x - np.cos(x)\n",
        "  elif ejercicio == 4:\n",
        "    return x - 0.8 - 0.2*np.sin(x) \n",
        "\n",
        "def Df(x): #Derivadas de los ejercicios.\n",
        "  if ejercicio == 1:\n",
        "    return 3*(x**2)-4*x\n",
        "  elif ejercicio == 2:\n",
        "    return 3*x**2+6*x\n",
        "  elif ejercicio == 3:\n",
        "    return 1+np.sin(x)\n",
        "  elif ejercicio == 4:\n",
        "    return 1-0.2*np.cos(x) \n",
        "\n",
        "ejercicio = int(input('Numero del ejercicio: ')) #Numero de ejercicio\n",
        "print('Elija metodo a usar: ')\n",
        "print('1) Metodo de la bisección ') \n",
        "print('2) Metodo de Newton.')\n",
        "print('3) Metodo de secantes.')\n",
        "Metodo = int(input()) #El metodo a elegir.\n",
        "tol = 10**(-10)\n",
        "\n",
        "if Metodo == 1:\n",
        "  if ejercicio == 1:\n",
        "    a=1\n",
        "    b=4\n",
        "  elif ejercicio == 2:\n",
        "    a=-3\n",
        "    b=-2\n",
        "  elif ejercicio == 3:\n",
        "    a=0\n",
        "    b=np.pi/2\n",
        "  elif ejercicio == 4:\n",
        "    a=0\n",
        "    b=np.pi/2\n",
        "  iteraciones,error,raiz = bisec(a,b,tol)\n",
        "elif Metodo == 2:\n",
        "  if ejercicio == 1:\n",
        "    a=2.5\n",
        "  elif ejercicio == 2:\n",
        "    a=-2.5\n",
        "  elif ejercicio == 3:\n",
        "    a=np.pi/4\n",
        "  elif ejercicio == 4:\n",
        "    a=np.pi/4\n",
        "  iteraciones,error,raiz = Newton(a,tol)\n",
        "elif Metodo == 3:\n",
        "  if ejercicio == 1:\n",
        "    a=1\n",
        "    b=4\n",
        "  elif ejercicio == 2:\n",
        "    a=-3\n",
        "    b=-2\n",
        "  elif ejercicio == 3:\n",
        "    a=0\n",
        "    b=np.pi/2\n",
        "  elif ejercicio == 4:\n",
        "    a=0\n",
        "    b=np.pi/2\n",
        "  iteraciones,error,raiz = secantes(a,b,tol)\n",
        "  \n",
        "print('El error es: ',error)\n",
        "print('Numero de iteraciones:',iteraciones)\n",
        "print('Raiz:', raiz)"
      ]
    }
  ]
}